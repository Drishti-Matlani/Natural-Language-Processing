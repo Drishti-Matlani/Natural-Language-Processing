{
 "cells": [
  {
   "cell_type": "code",
   "execution_count": null,
   "id": "f23bd52a-dd61-48fc-8fcb-6ddde5dd3f86",
   "metadata": {},
   "outputs": [],
   "source": [
    "## 1. Print an f-string that displays NLP stands for Natural Language Processing using the variables provided."
   ]
  },
  {
   "cell_type": "code",
   "execution_count": 2,
   "id": "3fad9dd5-ae42-4c3c-9fd9-9ac22c53748b",
   "metadata": {},
   "outputs": [
    {
     "name": "stdout",
     "output_type": "stream",
     "text": [
      "NLP stands for Natural Language Processing\n"
     ]
    }
   ],
   "source": [
    "nlp='Natural Language Processing'\n",
    "print(f\"NLP stands for {nlp}\")"
   ]
  },
  {
   "cell_type": "code",
   "execution_count": null,
   "id": "04057933-b66d-421a-8ada-78e32b51612b",
   "metadata": {},
   "outputs": [],
   "source": [
    "## 2. Create a file in the current working directory called contacts.txt by running the cell below."
   ]
  },
  {
   "cell_type": "code",
   "execution_count": 4,
   "id": "9276cfe6-3588-4d61-8667-77aa6d3bc810",
   "metadata": {},
   "outputs": [
    {
     "name": "stdout",
     "output_type": "stream",
     "text": [
      "Writing contacts.txt\n"
     ]
    }
   ],
   "source": [
    "%%writefile contacts.txt\n",
    "Hello world!\n",
    "This is a text file"
   ]
  },
  {
   "cell_type": "code",
   "execution_count": null,
   "id": "a8e2de1d-dfcc-46ba-9957-0961a50996fb",
   "metadata": {},
   "outputs": [],
   "source": [
    "## 3. Open the file and use .read() to save the contents of the file to a string called fields. Make sure the file is closed at the end."
   ]
  },
  {
   "cell_type": "code",
   "execution_count": 6,
   "id": "eb7596c0-8087-4b7d-a063-f215c3e55e7c",
   "metadata": {},
   "outputs": [],
   "source": [
    "fields=open('contacts.txt')"
   ]
  },
  {
   "cell_type": "code",
   "execution_count": 7,
   "id": "264910ca-85ca-4410-9dda-b14a60438150",
   "metadata": {},
   "outputs": [
    {
     "data": {
      "text/plain": [
       "'Hello world!\\nThis is a text file\\n'"
      ]
     },
     "execution_count": 7,
     "metadata": {},
     "output_type": "execute_result"
    }
   ],
   "source": [
    "fields.read()"
   ]
  },
  {
   "cell_type": "code",
   "execution_count": 8,
   "id": "9b0c8a5e-b44f-4044-bf0f-277f56cd5c04",
   "metadata": {},
   "outputs": [],
   "source": [
    "fields.close()"
   ]
  },
  {
   "cell_type": "code",
   "execution_count": null,
   "id": "523fc078-8c09-41e9-a684-7c3ae4e3a2c7",
   "metadata": {},
   "outputs": [],
   "source": [
    "## 4. Use PyPDF2 to open the file Business_Proposal.pdf. Extract the text of page 2."
   ]
  },
  {
   "cell_type": "code",
   "execution_count": 10,
   "id": "eaefaae1-c03c-48f4-baed-5c2bf02442f0",
   "metadata": {},
   "outputs": [
    {
     "name": "stdout",
     "output_type": "stream",
     "text": [
      "Requirement already satisfied: PyPDF2 in c:\\ananconda\\lib\\site-packages (3.0.1)\n"
     ]
    }
   ],
   "source": [
    "!pip install PyPDF2"
   ]
  },
  {
   "cell_type": "code",
   "execution_count": 11,
   "id": "b6c50b62-b4f8-42ff-9251-876a9c7293a8",
   "metadata": {},
   "outputs": [],
   "source": [
    "import PyPDF2"
   ]
  },
  {
   "cell_type": "code",
   "execution_count": 12,
   "id": "2364670d-fb55-4eb0-beb0-2c1641cf3f37",
   "metadata": {},
   "outputs": [],
   "source": [
    "from PyPDF2 import PdfReader"
   ]
  },
  {
   "cell_type": "code",
   "execution_count": 13,
   "id": "cad18f49-ba2a-439e-b5e6-94ef95793444",
   "metadata": {},
   "outputs": [],
   "source": [
    "file=open('Business_Proposal.pdf','rb')"
   ]
  },
  {
   "cell_type": "code",
   "execution_count": 14,
   "id": "28c5d67a-8a92-455c-8aee-69145cd48c50",
   "metadata": {},
   "outputs": [],
   "source": [
    "pdf_reader=PyPDF2.PdfReader(file)"
   ]
  },
  {
   "cell_type": "code",
   "execution_count": 15,
   "id": "d738ac6f-6533-4aa2-bb5f-ddd0d35c392b",
   "metadata": {},
   "outputs": [
    {
     "data": {
      "text/plain": [
       "2"
      ]
     },
     "execution_count": 15,
     "metadata": {},
     "output_type": "execute_result"
    }
   ],
   "source": [
    "len(pdf_reader.pages)"
   ]
  },
  {
   "cell_type": "code",
   "execution_count": 16,
   "id": "b5d28a40-52a7-47b3-817d-743169d7d748",
   "metadata": {},
   "outputs": [],
   "source": [
    "page=pdf_reader.pages[1]"
   ]
  },
  {
   "cell_type": "code",
   "execution_count": 17,
   "id": "36dd2b40-e0f8-467b-94a7-9521fdf465d4",
   "metadata": {},
   "outputs": [],
   "source": [
    "page_two_text=page.extract_text()"
   ]
  },
  {
   "cell_type": "code",
   "execution_count": 18,
   "id": "151af21e-d9a5-4dbc-ab75-55acfeb77388",
   "metadata": {},
   "outputs": [
    {
     "data": {
      "text/plain": [
       "'AUTHORS:  \\nAmy Baker, Finance Chair, x345, abaker@ourcompany.com  \\nChris Donaldson, Accounting Dir., x621, cdonaldson@ourcompany.com  \\nErin Freeman, Sr. VP, x879, efreeman@ourcompany.com  '"
      ]
     },
     "execution_count": 18,
     "metadata": {},
     "output_type": "execute_result"
    }
   ],
   "source": [
    "page_two_text"
   ]
  },
  {
   "cell_type": "code",
   "execution_count": null,
   "id": "f1f98667-1e8b-4919-9c60-e8e390467300",
   "metadata": {},
   "outputs": [],
   "source": [
    "## 5. Open the file contacts.txt in append mode. Add the text of page 2 from above to contacts.txt."
   ]
  },
  {
   "cell_type": "code",
   "execution_count": 20,
   "id": "66447fd0-4862-457a-aa82-bf378f317530",
   "metadata": {},
   "outputs": [],
   "source": [
    "file=open('Business_Proposal.pdf','rb')\n",
    "pdf_reader=PyPDF2.PdfReader(file)\n",
    "\n",
    "page_two_text=page.extract_text()\n",
    "with open(\"contacts.txt\", \"a\", encoding=\"utf-8\") as f:\n",
    "    f.write(\"\\n---- Page 2 ----\\n\")  \n",
    "    f.write(page_two_text)"
   ]
  },
  {
   "cell_type": "code",
   "execution_count": 21,
   "id": "41392851-d268-4ff1-8ee2-573ec5ce5162",
   "metadata": {},
   "outputs": [
    {
     "name": "stdout",
     "output_type": "stream",
     "text": [
      "Hello world!\n",
      "This is a text file\n",
      "\n",
      "---- Page 2 ----\n",
      "AUTHORS:  \n",
      "Amy Baker, Finance Chair, x345, abaker@ourcompany.com  \n",
      "Chris Donaldson, Accounting Dir., x621, cdonaldson@ourcompany.com  \n",
      "Erin Freeman, Sr. VP, x879, efreeman@ourcompany.com  \n"
     ]
    }
   ],
   "source": [
    "with open(\"contacts.txt\", \"r\", encoding=\"utf-8\") as f:\n",
    "    print(f.read())"
   ]
  },
  {
   "cell_type": "markdown",
   "id": "2a3a171b-7ad8-4037-b971-9883fb084332",
   "metadata": {},
   "source": [
    "### 6. Using the page_two_text variable created above, extract any email addresses that were contained in the file Business_Proposal.pdf."
   ]
  },
  {
   "cell_type": "code",
   "execution_count": 23,
   "id": "625893c2-fe8e-4681-9a20-47df2c728dc2",
   "metadata": {},
   "outputs": [
    {
     "name": "stdout",
     "output_type": "stream",
     "text": [
      "Extracted_Emails: ['abaker@ourcompany.com', 'cdonaldson@ourcompany.com', 'efreeman@ourcompany.com']\n"
     ]
    }
   ],
   "source": [
    "import re\n",
    "from PyPDF2 import PdfReader\n",
    "\n",
    "pdf_path = \"Business_Proposal.pdf\"\n",
    "pdf_reader =PyPDF2.PdfReader(pdf_path)\n",
    "\n",
    "page_two_text = page.extract_text()\n",
    "\n",
    "emails = re.findall(r\"[A-Za-z0-9._%+-]+@[A-Za-z0-9.-]+\\.[A-Za-z]{2,}\", page_two_text)\n",
    "\n",
    "print(\"Extracted_Emails:\", emails)\n"
   ]
  },
  {
   "cell_type": "code",
   "execution_count": null,
   "id": "e8f1b0aa-2f35-4f26-9f17-82e45e8069f9",
   "metadata": {},
   "outputs": [],
   "source": []
  }
 ],
 "metadata": {
  "kernelspec": {
   "display_name": "Python 3 (ipykernel)",
   "language": "python",
   "name": "python3"
  },
  "language_info": {
   "codemirror_mode": {
    "name": "ipython",
    "version": 3
   },
   "file_extension": ".py",
   "mimetype": "text/x-python",
   "name": "python",
   "nbconvert_exporter": "python",
   "pygments_lexer": "ipython3",
   "version": "3.12.4"
  }
 },
 "nbformat": 4,
 "nbformat_minor": 5
}
